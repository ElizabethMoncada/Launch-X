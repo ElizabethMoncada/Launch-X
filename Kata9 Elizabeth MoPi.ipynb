{
  "cells": [
    {
      "cell_type": "markdown",
      "metadata": {},
      "source": [
        "# Ejercicio: Uso de funciones en Python"
      ]
    },
    {
      "cell_type": "markdown",
      "metadata": {},
      "source": [
        "### Ejercicio 1: Trabajar con argumentos en funciones\n",
        "\n",
        "Los argumentos requeridos en las funciones se utilizan cuando las funciones necesitan que esos argumentos funcionen correctamente. En este ejercicio, construirás un informe de combustible que requiere información de varias ubicaciones de combustible en todo el cohete.\n",
        "\n"
      ]
    },
    {
      "cell_type": "markdown",
      "metadata": {},
      "source": [
        "> **TIP**\n",
        "> Dedica unos minutos para tratar de encontrar una solución. Luego desplázate hacia abajo hasta la parte inferior para ver si has logrado compilar el programa de acuerdo con las especificaciones\n",
        "\n",
        "Comienza por crear una función que necesite tres lecturas de combustible y devuelva un informe:"
      ]
    },
    {
      "cell_type": "code",
      "execution_count": 63,
      "metadata": {},
      "outputs": [],
      "source": [
        "# Función para leer 3 tanques de combustible y muestre el promedio\n",
        "def Reporte_General(tanque_pe2, tanque_gasolina, tanque_helio):\n",
        "    promedio_total = (tanque_pe2 + tanque_gasolina + tanque_helio) / 3\n",
        "    return f\"\"\" Reporte de combustibles:\n",
        "    Promedio total: {promedio_total}%\n",
        "    Tanque pe2: {tanque_pe2}%\n",
        "    Tanque Gasolina: {tanque_gasolina}%\n",
        "    Tanque Helio: {tanque_helio}%\n",
        "    \n",
        "    \n",
        "    \"\"\"\n"
      ]
    },
    {
      "cell_type": "markdown",
      "metadata": {},
      "source": [
        "Ahora que hemos definido la función de informes, vamos a comprobarlo. Para esta misión, los tanques no están llenos:"
      ]
    },
    {
      "cell_type": "code",
      "execution_count": 64,
      "metadata": {},
      "outputs": [
        {
          "name": "stdout",
          "output_type": "stream",
          "text": [
            " Reporte de combustibles:\n",
            "    Promedio total: 58.333333333333336%\n",
            "    Tanque pe2: 50%\n",
            "    Tanque Gasolina: 90%\n",
            "    Tanque Helio: 35%\n",
            "    \n",
            "    \n",
            "    \n"
          ]
        }
      ],
      "source": [
        "\n",
        "# Llamamos a la función que genera el reporte print(funcion(tanque1, tanque2, tanque3))\n",
        "print(Reporte_General(50,90,35))"
      ]
    },
    {
      "cell_type": "markdown",
      "metadata": {},
      "source": [
        "En lugar de simplemente crear el informe, la función también está calculando el promedio. Mejora la legibilidad extrayendo el cálculo promedio de la función en una nueva función para que el promedio se pueda hacer de forma independiente:"
      ]
    },
    {
      "cell_type": "code",
      "execution_count": 65,
      "metadata": {},
      "outputs": [
        {
          "data": {
            "text/plain": [
              "38.333333333333336"
            ]
          },
          "execution_count": 65,
          "metadata": {},
          "output_type": "execute_result"
        }
      ],
      "source": [
        "# Función promedio \n",
        "def promedio(valores):\n",
        "    total = sum(valores)\n",
        "    numero = len(valores)\n",
        "    return total / numero\n",
        "\n",
        "promedio([26,24,65])"
      ]
    },
    {
      "cell_type": "markdown",
      "metadata": {},
      "source": [
        "Ahora actualiza la función de informes para llamando a la nueva función del promedio:\n"
      ]
    },
    {
      "cell_type": "code",
      "execution_count": 66,
      "metadata": {},
      "outputs": [
        {
          "name": "stdout",
          "output_type": "stream",
          "text": [
            " Reporte de combustibles:\n",
            "    Promedio total: 59.666666666666664%\n",
            "    Tanque pe2: 58%\n",
            "    Tanque Gasolina: 96%\n",
            "    Tanque Helio: 25%\n",
            "    \n",
            "    \n"
          ]
        }
      ],
      "source": [
        "# Actualiza la función\n",
        "def Reporte_General(tanque_pe2, tanque_gasolina, tanque_helio):\n",
        "    return f\"\"\" Reporte de combustibles:\n",
        "    Promedio total: {promedio([tanque_pe2, tanque_gasolina, tanque_helio])}%\n",
        "    Tanque pe2: {tanque_pe2}%\n",
        "    Tanque Gasolina: {tanque_gasolina}%\n",
        "    Tanque Helio: {tanque_helio}%\n",
        "    \n",
        "    \"\"\"\n",
        "\n",
        "print (Reporte_General (58,96,25))"
      ]
    },
    {
      "cell_type": "markdown",
      "metadata": {},
      "source": [
        "> Recuerda: Lo importante es intentarlo, puedes auxiliarte de internet, libros, etc. El objetivo de una kata es la comprobación de la comprensión de la lección y su aplicación inmediata a la resolución de problemas. Go for it!"
      ]
    },
    {
      "cell_type": "markdown",
      "metadata": {},
      "source": [
        "## Ejercicio 2: Trabajo con argumentos de palabra clave"
      ]
    },
    {
      "cell_type": "markdown",
      "metadata": {},
      "source": [
        "### Ejercicio : Trabajar con argumentos de palabras clave en funciones\n",
        "En este ejercicio, construirás un informe de cohete que requiere varias piezas de información, como el tiempo hasta el destino, el combustible a la izquierda y el nombre del destino. Comienza por crear una función que creará un informe preciso de la misión:"
      ]
    },
    {
      "cell_type": "code",
      "execution_count": 67,
      "metadata": {},
      "outputs": [
        {
          "name": "stdout",
          "output_type": "stream",
          "text": [
            "\n",
            "    Mision para Luna\n",
            "    Tiempo de viaje 60 minutos\n",
            "    Combustible: 400000 litros\n",
            "    \n"
          ]
        }
      ],
      "source": [
        "# Función con un informe preciso de la misión. Considera hora de prelanzamiento, tiempo de vuelo, destino, tanque externo y tanque interno\n",
        "def reporte_de_mision(hora_antes, hora_vuelo, destino, tanque_gasolina, tanque_pe2):\n",
        "    return f\"\"\"\n",
        "    Mision para {destino}\n",
        "    Tiempo de viaje {hora_antes + hora_vuelo} minutos\n",
        "    Combustible: {tanque_gasolina + tanque_pe2} litros\n",
        "    \"\"\"\n",
        "print(reporte_de_mision(25, 35, \"Luna\", 150000, 250000))   "
      ]
    },
    {
      "cell_type": "markdown",
      "metadata": {},
      "source": [
        "La función es problemática porque no se puede adaptar para minutos adicionales o tanques adicionales de combustible. Hazlo más flexible permitiendo cualquier número de pasos basados en el tiempo y cualquier número de tanques. En lugar de usar `*args` y `**kwargs`, aprovecha el hecho de que puedes usar cualquier nombre que desees. Asegurate que la función sea más legible mediante el uso de nombres de variables que están asociados con las entradas, como `*minutes` y `**fuel_reservoirs`:"
      ]
    },
    {
      "cell_type": "code",
      "execution_count": 68,
      "metadata": {},
      "outputs": [
        {
          "name": "stdout",
          "output_type": "stream",
          "text": [
            "\n",
            "    Mision para Luna\n",
            "    Tiempo de viaje 110 minutos\n",
            "    Combustible: 500000\n",
            "    \n"
          ]
        }
      ],
      "source": [
        "# Escribe tu nueva función de reporte considerando lo anterior\n",
        "def reporte_de_mision(destino, *minutos, **Combustible_reserva):\n",
        "    return f\"\"\"\n",
        "    Mision para {destino}\n",
        "    Tiempo de viaje {sum(minutos)} minutos\n",
        "    Combustible: {sum(Combustible_reserva.values())}\n",
        "    \"\"\"\n",
        "\n",
        "print(reporte_de_mision(\"Luna\", 20,15, 75, pe2=300000, gasolina=200000 ))"
      ]
    },
    {
      "cell_type": "markdown",
      "metadata": {},
      "source": [
        "Debido a que el combustible que queda en los tanques es específico de cada tanque, actualiza la función para usar el nombre de cada tanque en el informe:"
      ]
    },
    {
      "cell_type": "code",
      "execution_count": 69,
      "metadata": {},
      "outputs": [
        {
          "name": "stdout",
          "output_type": "stream",
          "text": [
            "\n",
            "    Mision para Luna\n",
            "    Tiempo de viaje 110 minutos\n",
            "    Combustible: 500000\n",
            "    pe2 tanque = 300000 litros que quedangasolina tanque = 200000 litros que quedan\n"
          ]
        }
      ],
      "source": [
        "# Escribe tu nueva función\n",
        "def reporte_de_mision(destino, *minutos, **Combustible_reserva):\n",
        "    reporte_pe2 = f\"\"\"\n",
        "    Mision para {destino}\n",
        "    Tiempo de viaje {sum(minutos)} minutos\n",
        "    Combustible: {sum(Combustible_reserva.values())}\n",
        "    \"\"\"\n",
        "    for nombre_tanque, litros in Combustible_reserva.items():\n",
        "      reporte_pe2+= f\"{nombre_tanque} tanque = {litros} litros que quedan\"  \n",
        "    return reporte_pe2\n",
        "print(reporte_de_mision(\"Luna\", 20,15, 75, pe2=300000, gasolina=200000 ))\n"
      ]
    }
  ],
  "metadata": {
    "interpreter": {
      "hash": "205095b8b86ea82a021a8fc2ffba2b3bc9f8d0be25999901963b225939f75778"
    },
    "kernelspec": {
      "display_name": "Python 3.8.10 64-bit ('tmp': conda)",
      "name": "python3"
    },
    "language_info": {
      "codemirror_mode": {
        "name": "ipython",
        "version": 3
      },
      "file_extension": ".py",
      "mimetype": "text/x-python",
      "name": "python",
      "nbconvert_exporter": "python",
      "pygments_lexer": "ipython3",
      "version": "3.10.2"
    },
    "nteract": {
      "version": "nteract-front-end@1.0.0"
    },
    "orig_nbformat": 4
  },
  "nbformat": 4,
  "nbformat_minor": 2
}
